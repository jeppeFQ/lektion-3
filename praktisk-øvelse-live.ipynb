{
 "cells": [
  {
   "cell_type": "markdown",
   "metadata": {},
   "source": [
    "## 1. Data: Lister, tuples og dictionaries"
   ]
  },
  {
   "cell_type": "code",
   "execution_count": 1,
   "metadata": {},
   "outputs": [],
   "source": [
    "# Liste\n",
    "ord = [\"hej\", \"farvel\", \"goddag\"]"
   ]
  },
  {
   "cell_type": "code",
   "execution_count": 2,
   "metadata": {},
   "outputs": [
    {
     "name": "stdout",
     "output_type": "stream",
     "text": [
      "['hej', 'farvel', 'goddag']\n"
     ]
    }
   ],
   "source": [
    "print(ord)"
   ]
  },
  {
   "cell_type": "code",
   "execution_count": 3,
   "metadata": {},
   "outputs": [],
   "source": [
    "# Tuple\n",
    "farver = (\"red\", \"green\", \"blue\")"
   ]
  },
  {
   "cell_type": "code",
   "execution_count": 4,
   "metadata": {},
   "outputs": [
    {
     "name": "stdout",
     "output_type": "stream",
     "text": [
      "('red', 'green', 'blue')\n"
     ]
    }
   ],
   "source": [
    "print(farver)"
   ]
  },
  {
   "cell_type": "code",
   "execution_count": 5,
   "metadata": {},
   "outputs": [
    {
     "name": "stdout",
     "output_type": "stream",
     "text": [
      "{'navn': 'Jeppe', 'alder': 31}\n"
     ]
    }
   ],
   "source": [
    "# Dictionary\n",
    "person = {\"navn\": \"Jeppe\", \"alder\": 31}\n",
    "print(person)"
   ]
  },
  {
   "cell_type": "markdown",
   "metadata": {},
   "source": [
    "### 1.1 `list`\n",
    "\n",
    "En liste i Python er en samling af elementer, som kan indeholde forskellige datatyper. Lister er mutable, hvilket betyder, at deres indhold kan ændres (tilføjes, fjernes eller ændres).\n",
    "\n",
    "1. Oprettes med: [] eller ved hjælp af list().\n",
    "2. Kan indeholde elementer af forskellig type: tal, strenge, objekter osv.\n",
    "3. Elementerne kan tilgås med indeksering (0-baseret).\n",
    "\n",
    "Egenskaber for lister:\n",
    "\n",
    "* Mutable (kan ændres).\n",
    "* Tillader dubletter.\n",
    "* Bestiller elementer (har en specifik rækkefølge).\n",
    "\n",
    "Lister er en af de mest brugte datastrukturer, da de er alsidige og lette at manipulere. Deres mutability gør dem ideelle til situationer, hvor man skal kunne ændre, tilføje eller fjerne elementer dynamisk.\n",
    "Anvendelser:\n",
    "\n",
    "- Sekvensering af data: Når du har brug for at gemme en samling elementer i en bestemt rækkefølge, som kan ændres over tid.\n",
    "- Søgelister: Du kan bruge lister, hvis du skal søge efter eller filtrere data, f.eks. gennem brug af loops.\n",
    "- Dynamisk størrelse: Hvis du ved, at mængden af data kan ændre sig under runtime, som ved at tilføje eller fjerne elementer fra en indkøbsliste eller en samling brugere.\n",
    "\n",
    "Use-cases:\n",
    "\n",
    "- Gemning af dynamisk data: En liste over brugere på et website, hvor nye brugere kan registrere sig, og gamle brugere kan slettes.\n",
    "- Behandling af data: En liste over opgaver i et program, som løbende kan opdateres, når opgaverne udføres.\n",
    "- Resultater af API-kald: Når man får en liste med data (fx JSON-listestruktur), som man ønsker at gennemløbe og ændre."
   ]
  },
  {
   "cell_type": "code",
   "execution_count": 11,
   "metadata": {},
   "outputs": [],
   "source": [
    "# Oprettelse af en liste\n",
    "ord = [\"hej\", \"farvel\", \"goddag\"]"
   ]
  },
  {
   "cell_type": "code",
   "execution_count": 24,
   "metadata": {},
   "outputs": [
    {
     "name": "stdout",
     "output_type": "stream",
     "text": [
      "['hej', 'farvel', 'goddag', 'Halløj', 'Halløj', 'Halløj', 'Halløj', 'Halløj', 'Halløj', 'Halløj', 'Halløj', 'Halløj', 'Halløj', 'Halløj', 'Halløj', 'Halløj']\n"
     ]
    }
   ],
   "source": [
    "# Tilføje et element\n",
    "ord.append(\"Halløj\")\n",
    "print(ord)"
   ]
  },
  {
   "cell_type": "code",
   "execution_count": 25,
   "metadata": {},
   "outputs": [
    {
     "name": "stdout",
     "output_type": "stream",
     "text": [
      "['hej', 'banan', 'goddag', 'Halløj', 'Halløj', 'Halløj', 'Halløj', 'Halløj', 'Halløj', 'Halløj', 'Halløj', 'Halløj', 'Halløj', 'Halløj', 'Halløj', 'Halløj']\n"
     ]
    }
   ],
   "source": [
    "# Ændre et element\n",
    "ord[1] = \"banan\"\n",
    "print(ord)"
   ]
  },
  {
   "cell_type": "code",
   "execution_count": 26,
   "metadata": {},
   "outputs": [
    {
     "name": "stdout",
     "output_type": "stream",
     "text": [
      "['hej', 'goddag', 'Halløj', 'Halløj', 'Halløj', 'Halløj', 'Halløj', 'Halløj', 'Halløj', 'Halløj', 'Halløj', 'Halløj', 'Halløj', 'Halløj', 'Halløj']\n"
     ]
    }
   ],
   "source": [
    "# Fjerne et element\n",
    "ord.remove(\"banan\")\n",
    "print(ord)"
   ]
  },
  {
   "cell_type": "code",
   "execution_count": 30,
   "metadata": {},
   "outputs": [
    {
     "name": "stdout",
     "output_type": "stream",
     "text": [
      "['goddag', 'Halløj', 'Halløj', 'Halløj', 'Halløj', 'Halløj', 'Halløj', 'Halløj', 'Halløj', 'Halløj', 'Halløj', 'Halløj', 'Halløj']\n"
     ]
    }
   ],
   "source": [
    "# Fjerne et element\n",
    "ord.remove(ord[0])\n",
    "print(ord)"
   ]
  },
  {
   "cell_type": "markdown",
   "metadata": {},
   "source": [
    "### 1.2 `Tuple`\n",
    "\n",
    "En tuple ligner en liste, men er immutable, hvilket betyder, at den ikke kan ændres, når den først er oprettet. Tuples bruges, når man vil sikre, at dataene ikke utilsigtet ændres.\n",
    "\n",
    "* Oprettes med: () eller ved hjælp af tuple().\n",
    "* Kan også indeholde elementer af forskellig type.\n",
    "* Elementerne kan tilgås med indeksering, ligesom lister.\n",
    "\n",
    "Egenskaber for tuples:\n",
    "\n",
    "* Immutable (kan ikke ændres).\n",
    "* Tillader dubletter.\n",
    "* Bestiller elementer (har en specifik rækkefølge).\n",
    "\n",
    "Tuples er nyttige, når du vil oprette en uforanderlig samling af elementer. Fordi tuples er immutable, bruges de ofte i situationer, hvor dataens integritet skal bevares.\n",
    "Anvendelser:\n",
    "\n",
    "- Konstante data: Brug tuples til data, der ikke skal ændres, såsom geografiske koordinater, faste konfigurationer eller andre værdier, der ikke bør justeres.\n",
    "- Nøgler i dictionaries: Da tuples er immutables, kan de bruges som nøgler i dictionaries (modsat lister, der ikke kan bruges som nøgler).\n",
    "- Tilbagevendende funktioner: Funktionen kan returnere flere værdier i en tuple, hvilket gør det nemt at håndtere og udpakke data.\n",
    "\n",
    "Use-cases:\n",
    "\n",
    "- Koordinatsystem: Et system, der gemmer faste geografiske koordinater (latitude, longitude) som tuples for at sikre, at de ikke ændres.\n",
    "- Returnering af flere værdier fra en funktion: Hvis du vil returnere både successtatus og resultatet af en operation.\n",
    "- Faste opsætninger: I et spil kan du bruge tuples til at gemme uforanderlige data om en spillers oprindelige position eller karakteristika."
   ]
  },
  {
   "cell_type": "code",
   "execution_count": 32,
   "metadata": {},
   "outputs": [
    {
     "name": "stdout",
     "output_type": "stream",
     "text": [
      "(1, 'blå', 2.74, False)\n"
     ]
    }
   ],
   "source": [
    "# Oprettelse af en tuple\n",
    "tup = (1, \"blå\", 2.74, False)\n",
    "print(tup)"
   ]
  },
  {
   "cell_type": "code",
   "execution_count": 33,
   "metadata": {},
   "outputs": [
    {
     "ename": "TypeError",
     "evalue": "'tuple' object does not support item assignment",
     "output_type": "error",
     "traceback": [
      "\u001b[0;31m---------------------------------------------------------------------------\u001b[0m\n",
      "\u001b[0;31mTypeError\u001b[0m                                 Traceback (most recent call last)\n",
      "Cell \u001b[0;32mIn[33], line 2\u001b[0m\n",
      "\u001b[1;32m      1\u001b[0m \u001b[38;5;66;03m# Forsøg på at ændre et element vil give en fejl\u001b[39;00m\n",
      "\u001b[0;32m----> 2\u001b[0m \u001b[43mtup\u001b[49m\u001b[43m[\u001b[49m\u001b[38;5;241;43m1\u001b[39;49m\u001b[43m]\u001b[49m \u001b[38;5;241m=\u001b[39m \u001b[38;5;124m\"\u001b[39m\u001b[38;5;124mrød\u001b[39m\u001b[38;5;124m\"\u001b[39m\n",
      "\n",
      "\u001b[0;31mTypeError\u001b[0m: 'tuple' object does not support item assignment"
     ]
    }
   ],
   "source": [
    "# Forsøg på at ændre et element vil give en fejl\n",
    "tup[1] = \"rød\""
   ]
  },
  {
   "cell_type": "code",
   "execution_count": 34,
   "metadata": {},
   "outputs": [],
   "source": [
    "# Geografiske koordinater som tuple\n",
    "koordinater = (55.6761, 12.5683)  # Latitude, Longitude for København\n",
    "\n",
    "# Returnere flere værdier fra en funktion og sikre at de ikke bare kan ændres\n",
    "def beregn_area_og_omkreds(radius):\n",
    "    area = 3.14 * radius ** 2\n",
    "    omkreds = 2 * 3.14 * radius\n",
    "    return (area, omkreds)"
   ]
  },
  {
   "cell_type": "code",
   "execution_count": 35,
   "metadata": {},
   "outputs": [
    {
     "data": {
      "text/plain": [
       "(418326.5, 2292.2000000000003)"
      ]
     },
     "execution_count": null,
     "metadata": {},
     "output_type": "execute_result"
    }
   ],
   "source": [
    "beregn_area_og_omkreds(365)"
   ]
  },
  {
   "cell_type": "markdown",
   "metadata": {},
   "source": [
    "### 1.3 `dict`\n",
    "\n",
    "En dictionary er en samling af nøgle-værdi-par. Hver nøgle er unik, og man bruger nøglen til at få adgang til den tilsvarende værdi. Dictionary er mutable, så både nøgler og værdier kan ændres.\n",
    "\n",
    "* Oprettes med: {} eller ved hjælp af dict().\n",
    "* Nøgler skal være unikke og typisk af en immutable type (som strenge, tal eller tuples), mens værdierne kan være af enhver type.\n",
    "* Tilgår elementer via nøgler, ikke via indeks.\n",
    "\n",
    "Egenskaber for dictionaries:\n",
    "\n",
    "* Mutable (kan ændres).\n",
    "* Nøgler er unikke (ingen dubletter af nøgler).\n",
    "* Ingen specifik rækkefølge før Python 3.7. Fra Python 3.8 bevares rækkefølgen.\n",
    "\n",
    "Dictionaries er en datastruktur, hvor du arbejder med nøgle-værdi-par. De er meget effektive til opslag, hvor man hurtigt skal finde en værdi baseret på en unik nøgle. Dictionaries er mutable, hvilket betyder, at du kan tilføje, ændre eller fjerne nøgle-værdi-par efter behov.\n",
    "Anvendelser:\n",
    "\n",
    "- Hurtig opslag af data: Når du har brug for at få adgang til data hurtigt baseret på en unik nøgle (som en bruger-id, produkt-id osv.).\n",
    "- Data med relationer: Brug dictionaries til at repræsentere relationer mellem data, f.eks. en persons navn knyttet til deres alder eller adresse.\n",
    "- Mapping af data: Brug dictionaries til at kortlægge og associere data, såsom ordbøger, telefonbøger eller API-parameteropslag.\n",
    "\n",
    "Use-cases:\n",
    "\n",
    "- API-svar: Når du modtager data i JSON-format, er det ofte struktureret som en dictionary med nøgler som f.eks. \"status\", \"data\", og \"error\".\n",
    "- Gemning af egenskaber: Du kan bruge en dictionary til at gemme egenskaber for et objekt, f.eks. en persons navn, alder, køn osv.\n",
    "- Optælling og statistik: Ved at bruge nøgler til at tælle forekomster af bestemte elementer, som antallet af gange et ord optræder i en tekst."
   ]
  },
  {
   "cell_type": "code",
   "execution_count": 36,
   "metadata": {},
   "outputs": [],
   "source": [
    "# Oprettelse af en dictionary\n",
    "person = {\"navn\": \"Jeppe\", \"alder\": 31}"
   ]
  },
  {
   "cell_type": "code",
   "execution_count": 38,
   "metadata": {},
   "outputs": [
    {
     "name": "stdout",
     "output_type": "stream",
     "text": [
      "Jeppe\n",
      "31\n"
     ]
    }
   ],
   "source": [
    "# Tilgå en værdi\n",
    "print(person[\"navn\"])\n",
    "print(person[\"alder\"])"
   ]
  },
  {
   "cell_type": "code",
   "execution_count": 40,
   "metadata": {},
   "outputs": [
    {
     "name": "stdout",
     "output_type": "stream",
     "text": [
      "58\n"
     ]
    }
   ],
   "source": [
    "# Ændre en værdi\n",
    "person[\"alder\"] = 58\n",
    "print(person[\"alder\"])"
   ]
  },
  {
   "cell_type": "code",
   "execution_count": 42,
   "metadata": {},
   "outputs": [
    {
     "name": "stdout",
     "output_type": "stream",
     "text": [
      "{'navn': 'Jeppe', 'alder': 58, 'land': 'Danmark'}\n"
     ]
    }
   ],
   "source": [
    "# Tilføje et nyt nøgle-værdi-par\n",
    "person[\"land\"] = \"Danmark\"\n",
    "print(person)"
   ]
  },
  {
   "cell_type": "code",
   "execution_count": 43,
   "metadata": {},
   "outputs": [
    {
     "name": "stdout",
     "output_type": "stream",
     "text": [
      "{'navn': 'Jeppe', 'land': 'Danmark'}\n"
     ]
    }
   ],
   "source": [
    "# Fjerne et nøgle-værdi-par\n",
    "del person[\"alder\"]\n",
    "print(person)"
   ]
  },
  {
   "cell_type": "markdown",
   "metadata": {},
   "source": [
    "### 1.4 Opsummering og use-cases\n",
    "\n",
    "#### **Opsummering**\n",
    "| Funktion               | Liste | Tuple | Dictionary |\n",
    "|------------------------|-------|-------|------------|\n",
    "| Mutable?               | Ja    | Nej   | Ja         |\n",
    "| Indeksering            | Ja    | Ja    | Nej (brug nøgler) |\n",
    "\n",
    "\n",
    "\n",
    "#### **Use-cases**\n",
    "\n",
    "| Datastruktur  | Anvendelser                                                        | Typiske Use-cases                                           |\n",
    "|---------------|---------------------------------------------------------------------|-------------------------------------------------------------|\n",
    "| **Lister**    | Dynamisk samling, tilføje/fjerne elementer, gemme data i rækkefølge | Indkøbslister, dynamiske samlinger, behandlingskøer          |\n",
    "| **Tuples**    | Uforanderlige samlinger, sikre data, returnere flere værdier        | Geografiske koordinater, funktionstilbageværdier, faste opsætninger |\n",
    "| **Dictionaries** | Nøgle-værdi-par, hurtig adgang, associationsrelationer           | API-data, databaser, statistik og optælling, ordbøger         |"
   ]
  },
  {
   "cell_type": "markdown",
   "metadata": {},
   "source": [
    "# 2. Funktioner og argumenter"
   ]
  },
  {
   "cell_type": "markdown",
   "metadata": {},
   "source": [
    "I Python er funktioner grundlæggende byggesten, der gør koden mere modulær, genanvendelig og struktureret. En funktion er en blok af organiseret, genanvendelig kode, der udfører en specifik opgave. Funktioner kan tage input (argumenter), udføre operationer på dem og returnere et resultat.\n",
    "Oprettelse af funktioner\n",
    "\n",
    "Funktioner defineres ved hjælp af nøgleordet def, efterfulgt af et funktionsnavn og en parentes, der kan indeholde eventuelle parametre.\n",
    "\n",
    "\n",
    "\n",
    "```\n",
    "def funktionsnavn(parametre):\n",
    "    # Funktionskrop\n",
    "    # Valgfri return statement\n",
    "    return resultat\n",
    "\n",
    "```\n",
    "\n",
    "- funktionsnavn: Navnet på funktionen.\n",
    "- parametre: Variabler, som du kan give som input til funktionen.\n",
    "- Funktionskrop: Koden, der udføres, når funktionen kaldes.\n",
    "- return: Værdien, som funktionen kan returnere. Det er valgfrit.\n",
    "\n",
    "\n",
    "- Funktioner gør koden mere genanvendelig og modulær.Du kan definere funktioner med positionelle argumenter, - nøgleord-argumenter, eller bruge standardværdier.\n",
    "- Python tillader variabel længde argumenter via *args og **kwargs.\n",
    "- Funktioner kan returnere flere værdier på én gang som en tuple.\n",
    "- Lambda-funktioner er enkle, anonyme funktioner, der kan bruges, når en fuld funktionsdefinition er unødvendig.\n",
    "\n",
    "Funktioner er et af de vigtigste værktøjer i Python og gør det nemt at organisere og strukturere din kode, så den bliver lettere at vedligeholde og læse."
   ]
  },
  {
   "cell_type": "code",
   "execution_count": 17,
   "metadata": {},
   "outputs": [],
   "source": []
  },
  {
   "cell_type": "code",
   "execution_count": 17,
   "metadata": {},
   "outputs": [],
   "source": []
  },
  {
   "cell_type": "code",
   "execution_count": 17,
   "metadata": {},
   "outputs": [],
   "source": [
    "# Returnering af værdier\n"
   ]
  },
  {
   "cell_type": "code",
   "execution_count": 18,
   "metadata": {},
   "outputs": [],
   "source": []
  },
  {
   "cell_type": "code",
   "execution_count": 18,
   "metadata": {},
   "outputs": [],
   "source": [
    "# Returnering af flere værdier (som Tuple)\n"
   ]
  },
  {
   "cell_type": "code",
   "execution_count": 19,
   "metadata": {},
   "outputs": [],
   "source": []
  },
  {
   "cell_type": "code",
   "execution_count": 19,
   "metadata": {},
   "outputs": [],
   "source": [
    "# Funktioner uden input\n"
   ]
  },
  {
   "cell_type": "code",
   "execution_count": 20,
   "metadata": {},
   "outputs": [],
   "source": []
  },
  {
   "cell_type": "code",
   "execution_count": 20,
   "metadata": {},
   "outputs": [],
   "source": [
    "# Funktioner med flere argumenter\n"
   ]
  },
  {
   "cell_type": "code",
   "execution_count": 21,
   "metadata": {},
   "outputs": [],
   "source": []
  },
  {
   "cell_type": "code",
   "execution_count": 21,
   "metadata": {},
   "outputs": [],
   "source": []
  },
  {
   "cell_type": "code",
   "execution_count": 21,
   "metadata": {},
   "outputs": [],
   "source": []
  },
  {
   "cell_type": "code",
   "execution_count": 21,
   "metadata": {},
   "outputs": [],
   "source": []
  },
  {
   "cell_type": "code",
   "execution_count": 36,
   "metadata": {},
   "outputs": [],
   "source": [
    "# default-værdier i funktioner\n"
   ]
  },
  {
   "cell_type": "code",
   "execution_count": 21,
   "metadata": {},
   "outputs": [],
   "source": []
  }
 ],
 "metadata": {
  "language_info": {
   "name": "python"
  }
 },
 "nbformat": 4,
 "nbformat_minor": 2
}
